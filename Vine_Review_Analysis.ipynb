{
  "nbformat": 4,
  "nbformat_minor": 0,
  "metadata": {
    "colab": {
      "name": "Vine_Review_Analysis.ipynb",
      "provenance": [],
      "collapsed_sections": [],
      "authorship_tag": "ABX9TyOfPxLmv9koWs/MoINeS1YT",
      "include_colab_link": true
    },
    "kernelspec": {
      "name": "python3",
      "display_name": "Python 3"
    }
  },
  "cells": [
    {
      "cell_type": "markdown",
      "metadata": {
        "id": "view-in-github",
        "colab_type": "text"
      },
      "source": [
        "<a href=\"https://colab.research.google.com/github/jt-schmidt/Amazon_Vine_Analysis/blob/main/Vine_Review_Analysis.ipynb\" target=\"_parent\"><img src=\"https://colab.research.google.com/assets/colab-badge.svg\" alt=\"Open In Colab\"/></a>"
      ]
    },
    {
      "cell_type": "code",
      "metadata": {
        "id": "V58rxea0HqSa",
        "outputId": "24c8c9ec-9ea1-4c20-8a4e-369685a30f32",
        "colab": {
          "base_uri": "https://localhost:8080/"
        }
      },
      "source": [
        "import os\n",
        "# Find the latest version of spark 2.0  from http://www-us.apache.org/dist/spark/ and enter as the spark version\n",
        "# For example:\n",
        "# spark_version = 'spark-3.0.0'\n",
        "spark_version = 'spark-3.0.1'\n",
        "os.environ['SPARK_VERSION']=spark_version\n",
        "\n",
        "# Install Spark and Java\n",
        "!apt-get update\n",
        "!apt-get install openjdk-11-jdk-headless -qq > /dev/null\n",
        "!wget -q http://www-us.apache.org/dist/spark/$SPARK_VERSION/$SPARK_VERSION-bin-hadoop2.7.tgz\n",
        "!tar xf $SPARK_VERSION-bin-hadoop2.7.tgz\n",
        "!pip install -q findspark\n",
        "\n",
        "# Set Environment Variables\n",
        "import os\n",
        "os.environ[\"JAVA_HOME\"] = \"/usr/lib/jvm/java-11-openjdk-amd64\"\n",
        "os.environ[\"SPARK_HOME\"] = f\"/content/{spark_version}-bin-hadoop2.7\"\n",
        "\n",
        "# Start a SparkSession\n",
        "import findspark\n",
        "findspark.init()"
      ],
      "execution_count": 1,
      "outputs": [
        {
          "output_type": "stream",
          "text": [
            "\r0% [Working]\r            \rIgn:1 https://developer.download.nvidia.com/compute/cuda/repos/ubuntu1804/x86_64  InRelease\n",
            "Get:2 https://cloud.r-project.org/bin/linux/ubuntu bionic-cran40/ InRelease [3,626 B]\n",
            "Ign:3 https://developer.download.nvidia.com/compute/machine-learning/repos/ubuntu1804/x86_64  InRelease\n",
            "Get:4 https://developer.download.nvidia.com/compute/cuda/repos/ubuntu1804/x86_64  Release [697 B]\n",
            "Get:5 https://developer.download.nvidia.com/compute/machine-learning/repos/ubuntu1804/x86_64  Release [564 B]\n",
            "Get:6 https://developer.download.nvidia.com/compute/cuda/repos/ubuntu1804/x86_64  Release.gpg [836 B]\n",
            "Get:7 https://developer.download.nvidia.com/compute/machine-learning/repos/ubuntu1804/x86_64  Release.gpg [833 B]\n",
            "Get:8 http://ppa.launchpad.net/c2d4u.team/c2d4u4.0+/ubuntu bionic InRelease [15.9 kB]\n",
            "Hit:9 http://archive.ubuntu.com/ubuntu bionic InRelease\n",
            "Get:10 http://security.ubuntu.com/ubuntu bionic-security InRelease [88.7 kB]\n",
            "Get:11 http://archive.ubuntu.com/ubuntu bionic-updates InRelease [88.7 kB]\n",
            "Ign:12 https://developer.download.nvidia.com/compute/cuda/repos/ubuntu1804/x86_64  Packages\n",
            "Get:12 https://developer.download.nvidia.com/compute/cuda/repos/ubuntu1804/x86_64  Packages [407 kB]\n",
            "Get:13 http://ppa.launchpad.net/graphics-drivers/ppa/ubuntu bionic InRelease [21.3 kB]\n",
            "Get:14 https://developer.download.nvidia.com/compute/machine-learning/repos/ubuntu1804/x86_64  Packages [58.5 kB]\n",
            "Get:15 http://archive.ubuntu.com/ubuntu bionic-backports InRelease [74.6 kB]\n",
            "Get:16 http://ppa.launchpad.net/c2d4u.team/c2d4u4.0+/ubuntu bionic/main Sources [1,688 kB]\n",
            "Get:17 http://security.ubuntu.com/ubuntu bionic-security/universe amd64 Packages [1,365 kB]\n",
            "Get:18 http://archive.ubuntu.com/ubuntu bionic-updates/main amd64 Packages [2,198 kB]\n",
            "Get:19 http://security.ubuntu.com/ubuntu bionic-security/restricted amd64 Packages [222 kB]\n",
            "Get:20 http://security.ubuntu.com/ubuntu bionic-security/multiverse amd64 Packages [15.8 kB]\n",
            "Get:21 http://security.ubuntu.com/ubuntu bionic-security/main amd64 Packages [1,781 kB]\n",
            "Get:22 http://archive.ubuntu.com/ubuntu bionic-updates/multiverse amd64 Packages [46.3 kB]\n",
            "Get:23 http://archive.ubuntu.com/ubuntu bionic-updates/restricted amd64 Packages [247 kB]\n",
            "Get:24 http://archive.ubuntu.com/ubuntu bionic-updates/universe amd64 Packages [2,129 kB]\n",
            "Get:25 http://ppa.launchpad.net/c2d4u.team/c2d4u4.0+/ubuntu bionic/main amd64 Packages [864 kB]\n",
            "Get:26 http://ppa.launchpad.net/graphics-drivers/ppa/ubuntu bionic/main amd64 Packages [46.6 kB]\n",
            "Fetched 11.4 MB in 4s (2,738 kB/s)\n",
            "Reading package lists... Done\n"
          ],
          "name": "stdout"
        }
      ]
    },
    {
      "cell_type": "code",
      "metadata": {
        "id": "IiMEnr_aWQvX",
        "outputId": "0750441c-90a2-41a5-d6b9-0a4533a0b206",
        "colab": {
          "base_uri": "https://localhost:8080/"
        }
      },
      "source": [
        "# Download the Postgres driver that will allow Spark to interact with Postgres.\n",
        "!wget https://jdbc.postgresql.org/download/postgresql-42.2.16.jar"
      ],
      "execution_count": 2,
      "outputs": [
        {
          "output_type": "stream",
          "text": [
            "--2020-11-14 15:24:06--  https://jdbc.postgresql.org/download/postgresql-42.2.16.jar\n",
            "Resolving jdbc.postgresql.org (jdbc.postgresql.org)... 72.32.157.228, 2001:4800:3e1:1::228\n",
            "Connecting to jdbc.postgresql.org (jdbc.postgresql.org)|72.32.157.228|:443... connected.\n",
            "HTTP request sent, awaiting response... 200 OK\n",
            "Length: 1002883 (979K) [application/java-archive]\n",
            "Saving to: ‘postgresql-42.2.16.jar’\n",
            "\n",
            "postgresql-42.2.16. 100%[===================>] 979.38K  3.96MB/s    in 0.2s    \n",
            "\n",
            "2020-11-14 15:24:06 (3.96 MB/s) - ‘postgresql-42.2.16.jar’ saved [1002883/1002883]\n",
            "\n"
          ],
          "name": "stdout"
        }
      ]
    },
    {
      "cell_type": "code",
      "metadata": {
        "id": "xyQmu7tVWUCm"
      },
      "source": [
        "from pyspark.sql import SparkSession\n",
        "spark = SparkSession.builder.appName(\"BigData-Challenge\").config(\"spark.driver.extraClassPath\",\"/content/postgresql-42.2.16.jar\").getOrCreate()"
      ],
      "execution_count": 3,
      "outputs": []
    },
    {
      "cell_type": "code",
      "metadata": {
        "id": "DmOqzxwEWXIN",
        "outputId": "ccf023ca-dd47-4360-9788-102bfba82557",
        "colab": {
          "base_uri": "https://localhost:8080/"
        }
      },
      "source": [
        "#Deliverable 1.6\n",
        "#First extract one of the review datasets, then create a new DataFrame.\n",
        "from pyspark import SparkFiles\n",
        "url = \"https://s3.amazonaws.com/amazon-reviews-pds/tsv/amazon_reviews_us_Video_Games_v1_00.tsv.gz\"\n",
        "spark.sparkContext.addFile(url)\n",
        "df = spark.read.option(\"encoding\", \"UTF-8\").csv(SparkFiles.get(\"amazon_reviews_us_Video_Games_v1_00.tsv.gz\"), sep=\"\\t\", header=True, inferSchema=True)\n",
        "df.show()"
      ],
      "execution_count": 4,
      "outputs": [
        {
          "output_type": "stream",
          "text": [
            "+-----------+-----------+--------------+----------+--------------+--------------------+----------------+-----------+-------------+-----------+----+-----------------+--------------------+--------------------+-----------+\n",
            "|marketplace|customer_id|     review_id|product_id|product_parent|       product_title|product_category|star_rating|helpful_votes|total_votes|vine|verified_purchase|     review_headline|         review_body|review_date|\n",
            "+-----------+-----------+--------------+----------+--------------+--------------------+----------------+-----------+-------------+-----------+----+-----------------+--------------------+--------------------+-----------+\n",
            "|         US|   12039526| RTIS3L2M1F5SM|B001CXYMFS|     737716809|Thrustmaster T-Fl...|     Video Games|          5|            0|          0|   N|                Y|an amazing joysti...|Used this for Eli...| 2015-08-31|\n",
            "|         US|    9636577| R1ZV7R40OLHKD|B00M920ND6|     569686175|Tonsee 6 buttons ...|     Video Games|          5|            0|          0|   N|                Y|Definitely a sile...|Loved it,  I didn...| 2015-08-31|\n",
            "|         US|    2331478|R3BH071QLH8QMC|B0029CSOD2|      98937668|Hidden Mysteries:...|     Video Games|          1|            0|          1|   N|                Y|            One Star|poor quality work...| 2015-08-31|\n",
            "|         US|   52495923|R127K9NTSXA2YH|B00GOOSV98|      23143350|GelTabz Performan...|     Video Games|          3|            0|          0|   N|                Y|good, but could b...|nice, but tend to...| 2015-08-31|\n",
            "|         US|   14533949|R32ZWUXDJPW27Q|B00Y074JOM|     821342511|Zero Suit Samus a...|     Video Games|          4|            0|          0|   N|                Y|   Great but flawed.|Great amiibo, gre...| 2015-08-31|\n",
            "|         US|    2377552|R3AQQ4YUKJWBA6|B002UBI6W6|     328764615|Psyclone Recharge...|     Video Games|          1|            0|          0|   N|                Y|            One Star|The remote consta...| 2015-08-31|\n",
            "|         US|   17521011|R2F0POU5K6F73F|B008XHCLFO|      24234603|Protection for yo...|     Video Games|          5|            0|          0|   N|                Y|              A Must|I have a 2012-201...| 2015-08-31|\n",
            "|         US|   19676307|R3VNR804HYSMR6|B00BRA9R6A|     682267517|   Nerf 3DS XL Armor|     Video Games|          5|            0|          0|   N|                Y|          Five Stars|Perfect, kids lov...| 2015-08-31|\n",
            "|         US|     224068| R3GZTM72WA2QH|B009EPWJLA|     435241890|One Piece: Pirate...|     Video Games|          5|            0|          0|   N|                Y|          Five Stars|            Excelent| 2015-08-31|\n",
            "|         US|   48467989| RNQOY62705W1K|B0000AV7GB|     256572651|Playstation 2 Dan...|     Video Games|          4|            0|          0|   N|                Y|          Four Stars|Slippery but expe...| 2015-08-31|\n",
            "|         US|     106569|R1VTIA3JTYBY02|B00008KTNN|     384411423|Metal Arms: Glitc...|     Video Games|          5|            0|          0|   N|                N|          Five Stars|Love the game. Se...| 2015-08-31|\n",
            "|         US|   48269642|R29DOU8791QZL8|B000A3IA0Y|     472622859|72 Pin Connector ...|     Video Games|          1|            0|          0|   N|                Y| Game will get stuck|Does not fit prop...| 2015-08-31|\n",
            "|         US|   52738710|R15DUT1VIJ9RJZ|B0053BQN34|     577628462|uDraw Gametablet ...|     Video Games|          2|            0|          0|   N|                Y|We have tried it ...|This was way too ...| 2015-08-31|\n",
            "|         US|   10556786|R3IMF2MQ3OU9ZM|B002I0HIMI|     988218515|NBA 2K12(Covers M...|     Video Games|          4|            0|          0|   N|                Y|          Four Stars|Works great good ...| 2015-08-31|\n",
            "|         US|    2963837|R23H79DHOZTYAU|B0081EH12M|     770100932|New Trigger Grips...|     Video Games|          1|            1|          1|   N|                Y|Now i have to buy...|It did not fit th...| 2015-08-31|\n",
            "|         US|   23092109| RIV24EQAIXA4O|B005FMLZQQ|      24647669|Xbox 360 Media Re...|     Video Games|          5|            0|          0|   N|                Y|          Five Stars|perfect lightweig...| 2015-08-31|\n",
            "|         US|   23091728|R3UCNGYDVN24YB|B002BSA388|      33706205|Super Mario Galaxy 2|     Video Games|          5|            0|          0|   N|                Y|          Five Stars|               great| 2015-08-31|\n",
            "|         US|   10712640| RUL4H4XTTN2DY|B00BUSLSAC|     829667834|Nintendo 3DS XL -...|     Video Games|          5|            0|          0|   N|                Y|          Five Stars|Works beautifully...| 2015-08-31|\n",
            "|         US|   17455376|R20JF7Z4DHTNX5|B00KWF38AW|     110680188|Captain Toad:  Tr...|     Video Games|          5|            0|          0|   N|                Y|          Five Stars|Kids loved the ga...| 2015-08-31|\n",
            "|         US|   14754850|R2T1AJ5MFI2260|B00BRQJYA8|     616463426|Lego Batman 2: DC...|     Video Games|          4|            0|          0|   N|                Y|          Four Stars|           Goodngame| 2015-08-31|\n",
            "+-----------+-----------+--------------+----------+--------------+--------------------+----------------+-----------+-------------+-----------+----+-----------------+--------------------+--------------------+-----------+\n",
            "only showing top 20 rows\n",
            "\n"
          ],
          "name": "stdout"
        }
      ]
    },
    {
      "cell_type": "code",
      "metadata": {
        "id": "elQk8L63WazN",
        "outputId": "ad48b111-f987-4269-ab9f-c7f41a14a077",
        "colab": {
          "base_uri": "https://localhost:8080/"
        }
      },
      "source": [
        "from pyspark.sql.functions import to_date\n",
        "import pandas as pd\n",
        "# Read in the Review dataset as a DataFrame\n",
        "amazon_review_df = df\n",
        "amazon_review_df.show()\n",
        "#Dataframe type check:  pandas vs spark\n",
        "if isinstance(amazon_review_df, pd.DataFrame):\n",
        "    print('pandas')\n",
        "else:\n",
        "    print('spark')"
      ],
      "execution_count": 5,
      "outputs": [
        {
          "output_type": "stream",
          "text": [
            "+-----------+-----------+--------------+----------+--------------+--------------------+----------------+-----------+-------------+-----------+----+-----------------+--------------------+--------------------+-----------+\n",
            "|marketplace|customer_id|     review_id|product_id|product_parent|       product_title|product_category|star_rating|helpful_votes|total_votes|vine|verified_purchase|     review_headline|         review_body|review_date|\n",
            "+-----------+-----------+--------------+----------+--------------+--------------------+----------------+-----------+-------------+-----------+----+-----------------+--------------------+--------------------+-----------+\n",
            "|         US|   12039526| RTIS3L2M1F5SM|B001CXYMFS|     737716809|Thrustmaster T-Fl...|     Video Games|          5|            0|          0|   N|                Y|an amazing joysti...|Used this for Eli...| 2015-08-31|\n",
            "|         US|    9636577| R1ZV7R40OLHKD|B00M920ND6|     569686175|Tonsee 6 buttons ...|     Video Games|          5|            0|          0|   N|                Y|Definitely a sile...|Loved it,  I didn...| 2015-08-31|\n",
            "|         US|    2331478|R3BH071QLH8QMC|B0029CSOD2|      98937668|Hidden Mysteries:...|     Video Games|          1|            0|          1|   N|                Y|            One Star|poor quality work...| 2015-08-31|\n",
            "|         US|   52495923|R127K9NTSXA2YH|B00GOOSV98|      23143350|GelTabz Performan...|     Video Games|          3|            0|          0|   N|                Y|good, but could b...|nice, but tend to...| 2015-08-31|\n",
            "|         US|   14533949|R32ZWUXDJPW27Q|B00Y074JOM|     821342511|Zero Suit Samus a...|     Video Games|          4|            0|          0|   N|                Y|   Great but flawed.|Great amiibo, gre...| 2015-08-31|\n",
            "|         US|    2377552|R3AQQ4YUKJWBA6|B002UBI6W6|     328764615|Psyclone Recharge...|     Video Games|          1|            0|          0|   N|                Y|            One Star|The remote consta...| 2015-08-31|\n",
            "|         US|   17521011|R2F0POU5K6F73F|B008XHCLFO|      24234603|Protection for yo...|     Video Games|          5|            0|          0|   N|                Y|              A Must|I have a 2012-201...| 2015-08-31|\n",
            "|         US|   19676307|R3VNR804HYSMR6|B00BRA9R6A|     682267517|   Nerf 3DS XL Armor|     Video Games|          5|            0|          0|   N|                Y|          Five Stars|Perfect, kids lov...| 2015-08-31|\n",
            "|         US|     224068| R3GZTM72WA2QH|B009EPWJLA|     435241890|One Piece: Pirate...|     Video Games|          5|            0|          0|   N|                Y|          Five Stars|            Excelent| 2015-08-31|\n",
            "|         US|   48467989| RNQOY62705W1K|B0000AV7GB|     256572651|Playstation 2 Dan...|     Video Games|          4|            0|          0|   N|                Y|          Four Stars|Slippery but expe...| 2015-08-31|\n",
            "|         US|     106569|R1VTIA3JTYBY02|B00008KTNN|     384411423|Metal Arms: Glitc...|     Video Games|          5|            0|          0|   N|                N|          Five Stars|Love the game. Se...| 2015-08-31|\n",
            "|         US|   48269642|R29DOU8791QZL8|B000A3IA0Y|     472622859|72 Pin Connector ...|     Video Games|          1|            0|          0|   N|                Y| Game will get stuck|Does not fit prop...| 2015-08-31|\n",
            "|         US|   52738710|R15DUT1VIJ9RJZ|B0053BQN34|     577628462|uDraw Gametablet ...|     Video Games|          2|            0|          0|   N|                Y|We have tried it ...|This was way too ...| 2015-08-31|\n",
            "|         US|   10556786|R3IMF2MQ3OU9ZM|B002I0HIMI|     988218515|NBA 2K12(Covers M...|     Video Games|          4|            0|          0|   N|                Y|          Four Stars|Works great good ...| 2015-08-31|\n",
            "|         US|    2963837|R23H79DHOZTYAU|B0081EH12M|     770100932|New Trigger Grips...|     Video Games|          1|            1|          1|   N|                Y|Now i have to buy...|It did not fit th...| 2015-08-31|\n",
            "|         US|   23092109| RIV24EQAIXA4O|B005FMLZQQ|      24647669|Xbox 360 Media Re...|     Video Games|          5|            0|          0|   N|                Y|          Five Stars|perfect lightweig...| 2015-08-31|\n",
            "|         US|   23091728|R3UCNGYDVN24YB|B002BSA388|      33706205|Super Mario Galaxy 2|     Video Games|          5|            0|          0|   N|                Y|          Five Stars|               great| 2015-08-31|\n",
            "|         US|   10712640| RUL4H4XTTN2DY|B00BUSLSAC|     829667834|Nintendo 3DS XL -...|     Video Games|          5|            0|          0|   N|                Y|          Five Stars|Works beautifully...| 2015-08-31|\n",
            "|         US|   17455376|R20JF7Z4DHTNX5|B00KWF38AW|     110680188|Captain Toad:  Tr...|     Video Games|          5|            0|          0|   N|                Y|          Five Stars|Kids loved the ga...| 2015-08-31|\n",
            "|         US|   14754850|R2T1AJ5MFI2260|B00BRQJYA8|     616463426|Lego Batman 2: DC...|     Video Games|          4|            0|          0|   N|                Y|          Four Stars|           Goodngame| 2015-08-31|\n",
            "+-----------+-----------+--------------+----------+--------------+--------------------+----------------+-----------+-------------+-----------+----+-----------------+--------------------+--------------------+-----------+\n",
            "only showing top 20 rows\n",
            "\n",
            "spark\n"
          ],
          "name": "stdout"
        }
      ]
    },
    {
      "cell_type": "code",
      "metadata": {
        "id": "Bn8VwXCbYFr1",
        "outputId": "bcbbb93b-20f0-4c99-df06-b16120ccffc2",
        "colab": {
          "base_uri": "https://localhost:8080/"
        }
      },
      "source": [
        "#Deliverable 1\n",
        "# Create the vine_table. DataFrame\n",
        "# vine_df = df.select([])\n",
        "\n",
        "#SQL from pgAdmin BigDataChallenge DB\n",
        "#CREATE TABLE vine_table (\n",
        "#  review_id TEXT PRIMARY KEY,\n",
        "#  star_rating INTEGER,\n",
        "#  helpful_votes INTEGER,\n",
        "#  total_votes INTEGER,\n",
        "#  vine TEXT,\n",
        "#  verified_purchase TEXT\n",
        "from pyspark.sql.functions import desc\n",
        "from pyspark.sql.functions import to_date\n",
        "import pyspark.sql.functions as F\n",
        "\n",
        "vine_df = amazon_review_df.select(['review_id','star_rating','helpful_votes','total_votes','vine','verified_purchase'])\n",
        "vine_df.sort('total_votes').show()"
      ],
      "execution_count": 34,
      "outputs": [
        {
          "output_type": "stream",
          "text": [
            "+--------------+-----------+-------------+-----------+----+-----------------+\n",
            "|     review_id|star_rating|helpful_votes|total_votes|vine|verified_purchase|\n",
            "+--------------+-----------+-------------+-----------+----+-----------------+\n",
            "|R2E5BQMWTW9JUQ|          5|            0|          0|   N|                Y|\n",
            "|R3VTIZI7XPW9PR|          4|            0|          0|   N|                Y|\n",
            "|R1UC7WJRQQKU5V|          5|            0|          0|   N|                Y|\n",
            "| R1ZV7R40OLHKD|          5|            0|          0|   N|                Y|\n",
            "|R3V0YK55IDIW3T|          5|            0|          0|   N|                Y|\n",
            "|R127K9NTSXA2YH|          3|            0|          0|   N|                Y|\n",
            "|R14Z48EC6DKJX9|          5|            0|          0|   N|                Y|\n",
            "|R3AQQ4YUKJWBA6|          1|            0|          0|   N|                Y|\n",
            "|R3IU97WRKS5SLN|          5|            0|          0|   N|                Y|\n",
            "|R3VNR804HYSMR6|          5|            0|          0|   N|                Y|\n",
            "| RJOF64DZUKQ3D|          5|            0|          0|   N|                Y|\n",
            "| RNQOY62705W1K|          4|            0|          0|   N|                Y|\n",
            "|R3GXKE92MJBBSL|          5|            0|          0|   N|                Y|\n",
            "|R29DOU8791QZL8|          1|            0|          0|   N|                Y|\n",
            "|R3ANEHLBZQZKBI|          5|            0|          0|   N|                Y|\n",
            "|R3IMF2MQ3OU9ZM|          4|            0|          0|   N|                Y|\n",
            "|R1DLJMMMK89CGD|          5|            0|          0|   N|                Y|\n",
            "| RIV24EQAIXA4O|          5|            0|          0|   N|                Y|\n",
            "| RUGCK1O1I3YAD|          5|            0|          0|   N|                Y|\n",
            "| RUL4H4XTTN2DY|          5|            0|          0|   N|                Y|\n",
            "+--------------+-----------+-------------+-----------+----+-----------------+\n",
            "only showing top 20 rows\n",
            "\n"
          ],
          "name": "stdout"
        }
      ]
    },
    {
      "cell_type": "code",
      "metadata": {
        "id": "upf63J4_c2Vc",
        "outputId": "dad77282-e04c-4395-9064-00528d33752c",
        "colab": {
          "base_uri": "https://localhost:8080/"
        }
      },
      "source": [
        "#Deliverable 2.1\n",
        "#Filter data & create new dataframe where total_votes >= 20\n",
        "#df.filter((df.d<5)& (df.col2!=df.col4) & (df.col1==df.col3)).show()\n",
        "\n",
        "vine_vote_over20_df = vine_df.filter((vine_df.total_votes>=20))\n",
        "vine_vote_over20_df.sort('total_votes').show()"
      ],
      "execution_count": 35,
      "outputs": [
        {
          "output_type": "stream",
          "text": [
            "+--------------+-----------+-------------+-----------+----+-----------------+\n",
            "|     review_id|star_rating|helpful_votes|total_votes|vine|verified_purchase|\n",
            "+--------------+-----------+-------------+-----------+----+-----------------+\n",
            "|R3EI0JMVNT5XO3|          5|           20|         20|   N|                Y|\n",
            "|R2PDRZJOVO772P|          1|            2|         20|   N|                Y|\n",
            "|R15W8DZ57HXZ28|          5|           19|         20|   N|                Y|\n",
            "| R60GI4Z1CNGGV|          5|           17|         20|   N|                Y|\n",
            "|R1Y6ZYTARUH13D|          5|           14|         20|   N|                N|\n",
            "|R18YE5XIUB40P9|          5|           18|         20|   N|                Y|\n",
            "| RQ4NYV9QVM2IJ|          1|            0|         20|   N|                N|\n",
            "|R1RA7M526HB0O7|          1|            7|         20|   N|                N|\n",
            "| R7UQ7ME8NFJMX|          1|            0|         20|   N|                N|\n",
            "|R23Z2K6GIQ2E6O|          4|           19|         20|   N|                Y|\n",
            "|R35DU99CE52BYO|          1|            0|         20|   N|                Y|\n",
            "|R202NID9FG773L|          1|            7|         20|   N|                Y|\n",
            "|R3OQO0JJGRR6IE|          1|            1|         20|   N|                Y|\n",
            "|R13TCXU89VZ0WC|          3|           19|         20|   N|                Y|\n",
            "|R1RXZXSWUD8P77|          1|            6|         20|   N|                Y|\n",
            "|R3A3RBUZ2YUVS6|          1|            1|         20|   N|                Y|\n",
            "|R26OQY0D8FB0TN|          1|           16|         20|   N|                Y|\n",
            "|R12Y2M8INL5KGU|          1|            1|         20|   N|                Y|\n",
            "|R118B93YIOJBNL|          1|            1|         20|   N|                N|\n",
            "|R1N1YR7XNB54BF|          5|           20|         20|   N|                Y|\n",
            "+--------------+-----------+-------------+-----------+----+-----------------+\n",
            "only showing top 20 rows\n",
            "\n"
          ],
          "name": "stdout"
        }
      ]
    },
    {
      "cell_type": "code",
      "metadata": {
        "id": "JPbg6ziqdhuK",
        "outputId": "e763d8e2-896e-4974-dacc-447a2e62ea0a",
        "colab": {
          "base_uri": "https://localhost:8080/"
        }
      },
      "source": [
        "#Deliverable 2.2\n",
        "#Filter vine_vote_over20 where # helpful_votes / total_votes >= 50%\n",
        "\n",
        "vine_helpful_over50percent_df = vine_vote_over20_df.filter( ( vine_vote_over20_df.helpful_votes / vine_vote_over20_df.total_votes ) >= 0.5 )\n",
        "vine_helpful_over50percent_df.sort('total_votes').show()"
      ],
      "execution_count": 38,
      "outputs": [
        {
          "output_type": "stream",
          "text": [
            "+--------------+-----------+-------------+-----------+----+-----------------+\n",
            "|     review_id|star_rating|helpful_votes|total_votes|vine|verified_purchase|\n",
            "+--------------+-----------+-------------+-----------+----+-----------------+\n",
            "|R2G8UKUJZEL4EB|          5|           19|         20|   N|                Y|\n",
            "| RNE0A8LOLHTNG|          2|           14|         20|   N|                N|\n",
            "|R3EI0JMVNT5XO3|          5|           20|         20|   N|                Y|\n",
            "| R60GI4Z1CNGGV|          5|           17|         20|   N|                Y|\n",
            "|R15W8DZ57HXZ28|          5|           19|         20|   N|                Y|\n",
            "|R18UIVCYVG6HKQ|          3|           13|         20|   N|                N|\n",
            "|R1Y6ZYTARUH13D|          5|           14|         20|   N|                N|\n",
            "|R23Z2K6GIQ2E6O|          4|           19|         20|   N|                Y|\n",
            "|R26OQY0D8FB0TN|          1|           16|         20|   N|                Y|\n",
            "|R1N1YR7XNB54BF|          5|           20|         20|   N|                Y|\n",
            "| RPILRULHOKNDQ|          5|           19|         20|   N|                N|\n",
            "|R30NFTKJFKHP67|          5|           20|         20|   N|                Y|\n",
            "| R24PBSGVRTGKG|          5|           19|         20|   N|                N|\n",
            "|R3HK9S8FAXTO5G|          1|           10|         20|   N|                N|\n",
            "|R152GY7O1WMJI1|          5|           19|         20|   N|                Y|\n",
            "| R5VG5VEW2R36B|          1|           11|         20|   N|                N|\n",
            "| RYJVJ765QAQJW|          1|           14|         20|   N|                N|\n",
            "|R3CA6DOZ99B9O8|          4|           18|         20|   N|                N|\n",
            "|R1FB1X19DAZF8X|          5|           19|         20|   N|                Y|\n",
            "| RJTB5CVD9OREV|          1|           13|         20|   N|                Y|\n",
            "+--------------+-----------+-------------+-----------+----+-----------------+\n",
            "only showing top 20 rows\n",
            "\n"
          ],
          "name": "stdout"
        }
      ]
    },
    {
      "cell_type": "code",
      "metadata": {
        "id": "M0Zsb_m1exw7",
        "outputId": "387c6df8-5ce7-4f71-c675-1426d2167b5b",
        "colab": {
          "base_uri": "https://localhost:8080/"
        }
      },
      "source": [
        "#Deliverable 2.3\n",
        "#Filter vine_helpful_over50percent_df where review was written as part of Vine program (vine == 'Y')\n",
        "\n",
        "vine_Y_df = vine_helpful_over50percent_df.filter(  vine_helpful_over50percent_df.vine == 'Y' )\n",
        "vine_Y_df.sort('total_votes').show()"
      ],
      "execution_count": 41,
      "outputs": [
        {
          "output_type": "stream",
          "text": [
            "+--------------+-----------+-------------+-----------+----+-----------------+\n",
            "|     review_id|star_rating|helpful_votes|total_votes|vine|verified_purchase|\n",
            "+--------------+-----------+-------------+-----------+----+-----------------+\n",
            "|R3R0F8ETAGTIOT|          5|           14|         20|   Y|                N|\n",
            "|R2INH817LTJFGI|          5|           18|         20|   Y|                N|\n",
            "|R3KAW29CJ8L6DQ|          5|           17|         20|   Y|                N|\n",
            "|R3N4QAXTQCA1ED|          5|           18|         20|   Y|                N|\n",
            "|R369DSVA6AH6SB|          5|           16|         21|   Y|                N|\n",
            "|R3QJ1YLOZNKQ4L|          5|           19|         22|   Y|                N|\n",
            "| RF41VQVEOQ4DV|          5|           17|         22|   Y|                N|\n",
            "|R10FO5UKKVZBK2|          3|           23|         23|   Y|                N|\n",
            "| REAX2MY43TDPR|          2|           19|         23|   Y|                N|\n",
            "|R2JJLTBVU6R54W|          5|           16|         23|   Y|                N|\n",
            "| ROXZOMHBY8Y9S|          4|           21|         23|   Y|                N|\n",
            "| REQZP78LTC0EY|          4|           21|         23|   Y|                N|\n",
            "| R7CIUV543EN2I|          4|           19|         23|   Y|                N|\n",
            "| RKKMH184GEHKD|          5|           19|         23|   Y|                N|\n",
            "|R1PU7JY8XL5M1N|          5|           19|         24|   Y|                N|\n",
            "| RQ5WD90PUNBU9|          5|           21|         24|   Y|                N|\n",
            "| RM4KSGEOR7MU1|          5|           19|         24|   Y|                N|\n",
            "|R10P2XVXA9DYTO|          5|           21|         25|   Y|                N|\n",
            "| RNRUIQVK27RDZ|          3|           17|         25|   Y|                N|\n",
            "|R2GYO7WKCP4TOM|          3|           18|         25|   Y|                N|\n",
            "+--------------+-----------+-------------+-----------+----+-----------------+\n",
            "only showing top 20 rows\n",
            "\n"
          ],
          "name": "stdout"
        }
      ]
    },
    {
      "cell_type": "code",
      "metadata": {
        "id": "1oiUdMilfosj",
        "outputId": "45a16ce1-8bd3-4ba1-d093-d31e5af46a9e",
        "colab": {
          "base_uri": "https://localhost:8080/"
        }
      },
      "source": [
        "#Deliverable 2.4\n",
        "#Filter vine_helpful_over50percent_df where review was written was NOT part of Vine program (vine == 'N')\n",
        "\n",
        "vine_N_df = vine_helpful_over50percent_df.filter(  vine_helpful_over50percent_df.vine == 'N' )\n",
        "vine_N_df.sort('total_votes').show()"
      ],
      "execution_count": 42,
      "outputs": [
        {
          "output_type": "stream",
          "text": [
            "+--------------+-----------+-------------+-----------+----+-----------------+\n",
            "|     review_id|star_rating|helpful_votes|total_votes|vine|verified_purchase|\n",
            "+--------------+-----------+-------------+-----------+----+-----------------+\n",
            "|R2G8UKUJZEL4EB|          5|           19|         20|   N|                Y|\n",
            "| RNE0A8LOLHTNG|          2|           14|         20|   N|                N|\n",
            "|R3EI0JMVNT5XO3|          5|           20|         20|   N|                Y|\n",
            "| R60GI4Z1CNGGV|          5|           17|         20|   N|                Y|\n",
            "|R15W8DZ57HXZ28|          5|           19|         20|   N|                Y|\n",
            "|R18UIVCYVG6HKQ|          3|           13|         20|   N|                N|\n",
            "|R1Y6ZYTARUH13D|          5|           14|         20|   N|                N|\n",
            "|R23Z2K6GIQ2E6O|          4|           19|         20|   N|                Y|\n",
            "|R26OQY0D8FB0TN|          1|           16|         20|   N|                Y|\n",
            "|R1N1YR7XNB54BF|          5|           20|         20|   N|                Y|\n",
            "| RPILRULHOKNDQ|          5|           19|         20|   N|                N|\n",
            "|R30NFTKJFKHP67|          5|           20|         20|   N|                Y|\n",
            "| R24PBSGVRTGKG|          5|           19|         20|   N|                N|\n",
            "|R3HK9S8FAXTO5G|          1|           10|         20|   N|                N|\n",
            "|R152GY7O1WMJI1|          5|           19|         20|   N|                Y|\n",
            "| R5VG5VEW2R36B|          1|           11|         20|   N|                N|\n",
            "| RYJVJ765QAQJW|          1|           14|         20|   N|                N|\n",
            "|R3CA6DOZ99B9O8|          4|           18|         20|   N|                N|\n",
            "|R1FB1X19DAZF8X|          5|           19|         20|   N|                Y|\n",
            "| RJTB5CVD9OREV|          1|           13|         20|   N|                Y|\n",
            "+--------------+-----------+-------------+-----------+----+-----------------+\n",
            "only showing top 20 rows\n",
            "\n"
          ],
          "name": "stdout"
        }
      ]
    },
    {
      "cell_type": "code",
      "metadata": {
        "id": "fprpyh5vf1jp",
        "outputId": "39316db9-b0c5-47cb-dd03-708e1a73ef45",
        "colab": {
          "base_uri": "https://localhost:8080/"
        }
      },
      "source": [
        "#Deliverable 2.5\n",
        "#For both vine_Y_df and vine_N_df, determine:\n",
        "#1) Total number of reviews\n",
        "vine_Y_Total = vine_Y_df.count()\n",
        "vine_N_Total = vine_N_df.count()\n",
        "\n",
        "#2) Number of 5-star reviews\n",
        "vine_Y_5star_Total = vine_Y_df.filter(vine_Y_df.star_rating == '5').count()\n",
        "vine_N_5star_Total = vine_N_df.filter(vine_N_df.star_rating == '5').count()\n",
        "\n",
        "#3) Percent of 5-star reviews\n",
        "vine_Y_5star_percent = ( vine_Y_5star_Total / vine_Y_Total ) * 100\n",
        "vine_N_5star_percent = ( vine_N_5star_Total / vine_N_Total ) * 100\n",
        "\n",
        "print('Vine Paid Subscribers')\n",
        "print('Total 5-Star Reviews for Vine Paid Subscribers is ' + str(vine_Y_5star_Total))\n",
        "print('Total Reviews for Vine Paid Subscribers is ' + str(vine_Y_Total))\n",
        "print('Percentage of 5-Star Reviews is ' + str(round(vine_Y_5star_percent,2)) + '%')\n",
        "print('----------------------------------------------------------')\n",
        "print('Vine Un-Paid Non-Subscribers')\n",
        "print('Total 5-Star Reviews is ' + str(vine_N_5star_Total))\n",
        "print('Total Reviews is ' + str(vine_N_Total))\n",
        "print('Percentage of 5-Star Reviews is ' + str(round(vine_N_5star_percent,2)) + '%')"
      ],
      "execution_count": 48,
      "outputs": [
        {
          "output_type": "stream",
          "text": [
            "Vine Paid Subscribers\n",
            "Total 5-Star Reviews for Vine Paid Subscribers is 48\n",
            "Total Reviews for Vine Paid Subscribers is 94\n",
            "Percentage of 5-Star Reviews is 51.06%\n",
            "----------------------------------------------------------\n",
            "Vine Un-Paid Non-Subscribers\n",
            "Total 5-Star Reviews is 15663\n",
            "Total Reviews is 40471\n",
            "Percentage of 5-Star Reviews is 38.7%\n"
          ],
          "name": "stdout"
        }
      ]
    }
  ]
}